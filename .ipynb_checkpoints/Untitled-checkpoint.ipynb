{
 "cells": [
  {
   "cell_type": "code",
   "execution_count": 1,
   "id": "a8a65832",
   "metadata": {},
   "outputs": [
    {
     "name": "stdout",
     "output_type": "stream",
     "text": [
      "hello world\n"
     ]
    }
   ],
   "source": [
    "print(\"hello world\")"
   ]
  },
  {
   "cell_type": "code",
   "execution_count": 1,
   "id": "5f76ae1a",
   "metadata": {},
   "outputs": [
    {
     "data": {
      "image/png": "[encoded data removed]",
      "text/plain": [
       "<Figure size 432x288 with 1 Axes>"
      ]
     },
     "metadata": {
      "needs_background": "light"
     },
     "output_type": "display_data"
    }
   ],
   "source": [
    "%matplotlib inline\n",
    "import matplotlib.pyplot as plt\n",
    "plt.plot([0,2,1,3])\n",
    "plt.show()"
   ]
  },
  {
   "cell_type": "markdown",
   "id": "29fe28ea",
   "metadata": {},
   "source": [
    "＃説明文\n",
    "プログラムの説明です。"
   ]
  },
  {
   "cell_type": "code",
   "execution_count": 6,
   "id": "06f22921",
   "metadata": {},
   "outputs": [
    {
     "data": {
      "text/html": [
       "<div>\n",
       "<style scoped>\n",
       "    .dataframe tbody tr th:only-of-type {\n",
       "        vertical-align: middle;\n",
       "    }\n",
       "\n",
       "    .dataframe tbody tr th {\n",
       "        vertical-align: top;\n",
       "    }\n",
       "\n",
       "    .dataframe thead th {\n",
       "        text-align: right;\n",
       "    }\n",
       "</style>\n",
       "<table border=\"1\" class=\"dataframe\">\n",
       "  <thead>\n",
       "    <tr style=\"text-align: right;\">\n",
       "      <th></th>\n",
       "      <th>国語</th>\n",
       "      <th>数学</th>\n",
       "      <th>英語</th>\n",
       "    </tr>\n",
       "  </thead>\n",
       "  <tbody>\n",
       "    <tr>\n",
       "      <th>A太</th>\n",
       "      <td>60</td>\n",
       "      <td>54</td>\n",
       "      <td>76</td>\n",
       "    </tr>\n",
       "    <tr>\n",
       "      <th>B介</th>\n",
       "      <td>54</td>\n",
       "      <td>65</td>\n",
       "      <td>99</td>\n",
       "    </tr>\n",
       "    <tr>\n",
       "      <th>C子</th>\n",
       "      <td>35</td>\n",
       "      <td>88</td>\n",
       "      <td>56</td>\n",
       "    </tr>\n",
       "  </tbody>\n",
       "</table>\n",
       "</div>"
      ],
      "text/plain": [
       "    国語  数学  英語\n",
       "A太  60  54  76\n",
       "B介  54  65  99\n",
       "C子  35  88  56"
      ]
     },
     "execution_count": 6,
     "metadata": {},
     "output_type": "execute_result"
    }
   ],
   "source": [
    "import pandas as pd\n",
    "\n",
    "data = {\n",
    "    \"国語\" : [60,54,35],\n",
    "    \"数学\" : [54,65,88],\n",
    "    \"英語\" : [76,99,56]\n",
    "}\n",
    "idx = [\"A太\",\"B介\",\"C子\"]\n",
    "df = pd.DataFrame(data, index = idx)\n",
    "df"
   ]
  },
  {
   "cell_type": "code",
   "execution_count": 17,
   "id": "37cc291c",
   "metadata": {},
   "outputs": [
    {
     "data": {
      "text/plain": [
       "89"
      ]
     },
     "execution_count": 17,
     "metadata": {},
     "output_type": "execute_result"
    }
   ],
   "source": [
    "import pandas as pd\n",
    "df = pd.read_csv(\"test.csv\",index_col = 0)\n",
    "\n",
    "df.iloc[0][\"数学\"]"
   ]
  },
  {
   "cell_type": "code",
   "execution_count": 21,
   "id": "c2bf34b2",
   "metadata": {},
   "outputs": [
    {
     "data": {
      "text/html": [
       "<div>\n",
       "<style scoped>\n",
       "    .dataframe tbody tr th:only-of-type {\n",
       "        vertical-align: middle;\n",
       "    }\n",
       "\n",
       "    .dataframe tbody tr th {\n",
       "        vertical-align: top;\n",
       "    }\n",
       "\n",
       "    .dataframe thead th {\n",
       "        text-align: right;\n",
       "    }\n",
       "</style>\n",
       "<table border=\"1\" class=\"dataframe\">\n",
       "  <thead>\n",
       "    <tr style=\"text-align: right;\">\n",
       "      <th></th>\n",
       "      <th>国語</th>\n",
       "      <th>数学</th>\n",
       "      <th>英語</th>\n",
       "      <th>学生番号</th>\n",
       "    </tr>\n",
       "    <tr>\n",
       "      <th>名前</th>\n",
       "      <th></th>\n",
       "      <th></th>\n",
       "      <th></th>\n",
       "      <th></th>\n",
       "    </tr>\n",
       "  </thead>\n",
       "  <tbody>\n",
       "    <tr>\n",
       "      <th>A太</th>\n",
       "      <td>83</td>\n",
       "      <td>89</td>\n",
       "      <td>76</td>\n",
       "      <td>A001</td>\n",
       "    </tr>\n",
       "    <tr>\n",
       "      <th>B介</th>\n",
       "      <td>66</td>\n",
       "      <td>93</td>\n",
       "      <td>75</td>\n",
       "      <td>B001</td>\n",
       "    </tr>\n",
       "    <tr>\n",
       "      <th>C子</th>\n",
       "      <td>100</td>\n",
       "      <td>84</td>\n",
       "      <td>96</td>\n",
       "      <td>B002</td>\n",
       "    </tr>\n",
       "    <tr>\n",
       "      <th>E美</th>\n",
       "      <td>92</td>\n",
       "      <td>62</td>\n",
       "      <td>84</td>\n",
       "      <td>C001</td>\n",
       "    </tr>\n",
       "    <tr>\n",
       "      <th>F菜</th>\n",
       "      <td>96</td>\n",
       "      <td>92</td>\n",
       "      <td>94</td>\n",
       "      <td>C002</td>\n",
       "    </tr>\n",
       "  </tbody>\n",
       "</table>\n",
       "</div>"
      ],
      "text/plain": [
       "     国語  数学  英語  学生番号\n",
       "名前                   \n",
       "A太   83  89  76  A001\n",
       "B介   66  93  75  B001\n",
       "C子  100  84  96  B002\n",
       "E美   92  62  84  C001\n",
       "F菜   96  92  94  C002"
      ]
     },
     "execution_count": 21,
     "metadata": {},
     "output_type": "execute_result"
    }
   ],
   "source": [
    "import pandas as pd\n",
    "\n",
    "dfA = pd.read_csv(\"test.csv\", index_col = 0)\n",
    "\n",
    "dfA = dfA.drop(dfA.index[3])\n",
    "dfA"
   ]
  },
  {
   "cell_type": "code",
   "execution_count": 27,
   "id": "9ff45cee",
   "metadata": {},
   "outputs": [
    {
     "data": {
      "text/html": [
       "<div>\n",
       "<style scoped>\n",
       "    .dataframe tbody tr th:only-of-type {\n",
       "        vertical-align: middle;\n",
       "    }\n",
       "\n",
       "    .dataframe tbody tr th {\n",
       "        vertical-align: top;\n",
       "    }\n",
       "\n",
       "    .dataframe thead th {\n",
       "        text-align: right;\n",
       "    }\n",
       "</style>\n",
       "<table border=\"1\" class=\"dataframe\">\n",
       "  <thead>\n",
       "    <tr style=\"text-align: right;\">\n",
       "      <th></th>\n",
       "      <th>国語</th>\n",
       "      <th>数学</th>\n",
       "      <th>英語</th>\n",
       "      <th>学生番号</th>\n",
       "    </tr>\n",
       "    <tr>\n",
       "      <th>名前</th>\n",
       "      <th></th>\n",
       "      <th></th>\n",
       "      <th></th>\n",
       "      <th></th>\n",
       "    </tr>\n",
       "  </thead>\n",
       "  <tbody>\n",
       "    <tr>\n",
       "      <th>A太</th>\n",
       "      <td>83</td>\n",
       "      <td>89</td>\n",
       "      <td>76</td>\n",
       "      <td>A001</td>\n",
       "    </tr>\n",
       "    <tr>\n",
       "      <th>C子</th>\n",
       "      <td>100</td>\n",
       "      <td>84</td>\n",
       "      <td>96</td>\n",
       "      <td>B002</td>\n",
       "    </tr>\n",
       "    <tr>\n",
       "      <th>F菜</th>\n",
       "      <td>96</td>\n",
       "      <td>92</td>\n",
       "      <td>94</td>\n",
       "      <td>C002</td>\n",
       "    </tr>\n",
       "  </tbody>\n",
       "</table>\n",
       "</div>"
      ],
      "text/plain": [
       "     国語  数学  英語  学生番号\n",
       "名前                   \n",
       "A太   83  89  76  A001\n",
       "C子  100  84  96  B002\n",
       "F菜   96  92  94  C002"
      ]
     },
     "execution_count": 27,
     "metadata": {},
     "output_type": "execute_result"
    }
   ],
   "source": [
    "import pandas as pd\n",
    "\n",
    "dfA = pd.read_csv(\"test.csv\", index_col = 0)\n",
    "\n",
    "dfB = dfA[(dfA[\"国語\"] > 80) & (dfA[\"数学\"] > 80)]\n",
    "dfB\n"
   ]
  },
  {
   "cell_type": "code",
   "execution_count": 37,
   "id": "d89d0ac1",
   "metadata": {},
   "outputs": [
    {
     "data": {
      "text/html": [
       "<div>\n",
       "<style scoped>\n",
       "    .dataframe tbody tr th:only-of-type {\n",
       "        vertical-align: middle;\n",
       "    }\n",
       "\n",
       "    .dataframe tbody tr th {\n",
       "        vertical-align: top;\n",
       "    }\n",
       "\n",
       "    .dataframe thead th {\n",
       "        text-align: right;\n",
       "    }\n",
       "</style>\n",
       "<table border=\"1\" class=\"dataframe\">\n",
       "  <thead>\n",
       "    <tr style=\"text-align: right;\">\n",
       "      <th></th>\n",
       "      <th>国語</th>\n",
       "      <th>数学</th>\n",
       "    </tr>\n",
       "  </thead>\n",
       "  <tbody>\n",
       "    <tr>\n",
       "      <th>A太</th>\n",
       "      <td>90.0</td>\n",
       "      <td>80.0</td>\n",
       "    </tr>\n",
       "    <tr>\n",
       "      <th>B介</th>\n",
       "      <td>50.0</td>\n",
       "      <td>80.0</td>\n",
       "    </tr>\n",
       "    <tr>\n",
       "      <th>C子</th>\n",
       "      <td>50.0</td>\n",
       "      <td>80.0</td>\n",
       "    </tr>\n",
       "    <tr>\n",
       "      <th>DT</th>\n",
       "      <td>40.0</td>\n",
       "      <td>50.0</td>\n",
       "    </tr>\n",
       "  </tbody>\n",
       "</table>\n",
       "</div>"
      ],
      "text/plain": [
       "      国語    数学\n",
       "A太  90.0  80.0\n",
       "B介  50.0  80.0\n",
       "C子  50.0  80.0\n",
       "DT  40.0  50.0"
      ]
     },
     "execution_count": 37,
     "metadata": {},
     "output_type": "execute_result"
    }
   ],
   "source": [
    "import pandas as pd\n",
    "\n",
    "data = {\n",
    "    \"国語\":[90,50,None,40],\n",
    "    \"数学\":[80,None,None,50]\n",
    "}\n",
    "idx = [\"A太\",\"B介\",\"C子\",\"DT\"]\n",
    "dfA = pd.DataFrame(data, index = idx)\n",
    "dfB = dfA.fillna(method = 'ffill')\n",
    "dfB"
   ]
  },
  {
   "cell_type": "code",
   "execution_count": 44,
   "id": "d9bcde10",
   "metadata": {},
   "outputs": [
    {
     "data": {
      "text/plain": [
       "A    int64\n",
       "B    int64\n",
       "dtype: object"
      ]
     },
     "execution_count": 44,
     "metadata": {},
     "output_type": "execute_result"
    }
   ],
   "source": [
    "import pandas as pd\n",
    "\n",
    "data = {\n",
    "    \"A\" : [\"100\",\"300\"],\n",
    "    \"B\" : [\"500\",\"1,500\"]\n",
    "}\n",
    "dfA = pd.DataFrame(data)\n",
    "dfA[\"A\"] = dfA[\"A\"].astype(int)\n",
    "dfA[\"B\"] = dfA[\"B\"].str.replace(\",\",\"\").astype(int)\n",
    "dfA.dtypes"
   ]
  },
  {
   "cell_type": "code",
   "execution_count": 52,
   "id": "2a7c2804",
   "metadata": {},
   "outputs": [
    {
     "name": "stdout",
     "output_type": "stream",
     "text": [
      "82\n",
      "85.0\n"
     ]
    }
   ],
   "source": [
    "import pandas as pd\n",
    "\n",
    "data = {\n",
    "    \"Aクラス\":[82,89,93,85,76],\n",
    "    \"Bクラス\":[100,62,82,70,86]\n",
    "}\n",
    "\n",
    "df = pd.DataFrame(data)\n",
    "print(df.iloc[0][\"Aクラス\"])\n",
    "print(df[\"Aクラス\"].mean())"
   ]
  },
  {
   "cell_type": "code",
   "execution_count": 56,
   "id": "5dfe762d",
   "metadata": {},
   "outputs": [
    {
     "name": "stdout",
     "output_type": "stream",
     "text": [
      "   予想価格\n",
      "0   240\n"
     ]
    }
   ],
   "source": [
    "import pandas as pd\n",
    "\n",
    "data = {\n",
    "    \"予想価格\": [240,250,150,240,300,5000]\n",
    "}\n",
    "df = pd.DataFrame(data)\n",
    "print(df.mode())"
   ]
  },
  {
   "cell_type": "code",
   "execution_count": 62,
   "id": "8135ae12",
   "metadata": {},
   "outputs": [
    {
     "data": {
      "text/plain": [
       "[1, 3)     4\n",
       "[3, 5)     0\n",
       "[5, 7)     0\n",
       "[7, 9)     0\n",
       "[9, 11)    4\n",
       "Name: A案, dtype: int64"
      ]
     },
     "execution_count": 62,
     "metadata": {},
     "output_type": "execute_result"
    }
   ],
   "source": [
    "import pandas as pd\n",
    "\n",
    "data = {\n",
    "    \"A案\":[1,10,1,10,1,10,1,10],\n",
    "    \"B案\":[5,5,5,5,6,6,6,6],\n",
    "    \"C案\":[1,2,3,4,7,8,9,10]\n",
    "}\n",
    "df = pd.DataFrame(data)\n",
    "bins = [1,3,5,7,9,11]\n",
    "cut = pd.cut(df[\"A案\"], bins = bins, right = False)\n",
    "cut.value_counts(sort = False)"
   ]
  },
  {
   "cell_type": "code",
   "execution_count": 64,
   "id": "644458e2",
   "metadata": {},
   "outputs": [
    {
     "data": {
      "text/plain": [
       "<function matplotlib.pyplot.show(close=None, block=None)>"
      ]
     },
     "execution_count": 64,
     "metadata": {},
     "output_type": "execute_result"
    },
    {
     "data": {
      "image/png": "[encoded data removed]",
      "text/plain": [
       "<Figure size 432x288 with 1 Axes>"
      ]
     },
     "metadata": {},
     "output_type": "display_data"
    }
   ],
   "source": [
    "%matplotlib inline\n",
    "import matplotlib.pyplot as plt\n",
    "import seaborn as sns\n",
    "\n",
    "sns.set(font = [\"Meiryo\", \"Yu Gothic\", \"Hiragino Maru Gothic Pro\"])\n",
    "\n",
    "plt.plot([0,100,200],[100,0,200])\n",
    "plt.show"
   ]
  },
  {
   "cell_type": "code",
   "execution_count": 68,
   "id": "4fe5c178",
   "metadata": {},
   "outputs": [
    {
     "data": {
      "image/png": "[encoded data removed]",
      "text/plain": [
       "<Figure size 432x288 with 1 Axes>"
      ]
     },
     "metadata": {},
     "output_type": "display_data"
    }
   ],
   "source": [
    "%matplotlib inline\n",
    "import pandas as pd\n",
    "import matplotlib.pyplot\n",
    "import seaborn as sns\n",
    "\n",
    "sns.set(font = [\"Meiryo\", \"Yu Gothic\", \"Hiragino Maru Gothic Pro\"])\n",
    "\n",
    "data = {\n",
    "    \"A案\":[1,10,1,10,1,10,1,10],\n",
    "    \"B案\":[5,5,5,5,6,6,6,6],\n",
    "    \"C案\":[1,2,3,4,7,8,9,10]\n",
    "}\n",
    "\n",
    "df = pd.DataFrame(data)\n",
    "\n",
    "bins = [1,3,5,7,9,11]\n",
    "\n",
    "df.plot.hist(bins = bins)\n",
    "\n",
    "plt.title(\"ケーキの感想はどのように違うのか\")\n",
    "plt.show()"
   ]
  },
  {
   "cell_type": "code",
   "execution_count": 70,
   "id": "3320af02",
   "metadata": {},
   "outputs": [
    {
     "data": {
      "text/html": [
       "<div>\n",
       "<style scoped>\n",
       "    .dataframe tbody tr th:only-of-type {\n",
       "        vertical-align: middle;\n",
       "    }\n",
       "\n",
       "    .dataframe tbody tr th {\n",
       "        vertical-align: top;\n",
       "    }\n",
       "\n",
       "    .dataframe thead th {\n",
       "        text-align: right;\n",
       "    }\n",
       "</style>\n",
       "<table border=\"1\" class=\"dataframe\">\n",
       "  <thead>\n",
       "    <tr style=\"text-align: right;\">\n",
       "      <th></th>\n",
       "      <th>名前</th>\n",
       "      <th>国語</th>\n",
       "      <th>数学</th>\n",
       "      <th>英語</th>\n",
       "    </tr>\n",
       "  </thead>\n",
       "  <tbody>\n",
       "    <tr>\n",
       "      <th>0</th>\n",
       "      <td>A太</td>\n",
       "      <td>60</td>\n",
       "      <td>65</td>\n",
       "      <td>66</td>\n",
       "    </tr>\n",
       "    <tr>\n",
       "      <th>1</th>\n",
       "      <td>B介</td>\n",
       "      <td>80</td>\n",
       "      <td>85</td>\n",
       "      <td>88</td>\n",
       "    </tr>\n",
       "    <tr>\n",
       "      <th>2</th>\n",
       "      <td>C子</td>\n",
       "      <td>100</td>\n",
       "      <td>100</td>\n",
       "      <td>100</td>\n",
       "    </tr>\n",
       "  </tbody>\n",
       "</table>\n",
       "</div>"
      ],
      "text/plain": [
       "   名前   国語   数学   英語\n",
       "0  A太   60   65   66\n",
       "1  B介   80   85   88\n",
       "2  C子  100  100  100"
      ]
     },
     "execution_count": 70,
     "metadata": {},
     "output_type": "execute_result"
    }
   ],
   "source": [
    "%matplotlib inline\n",
    "import pandas as pd\n",
    "import matplotlib.pyplot as plt\n",
    "import seaborn as sns\n",
    "\n",
    "sns.set(font = [\"Meiryo\", \"Yu Gothic\", \"Hiragino Maru Gothic Pro\"])\n",
    "\n",
    "data = {\n",
    "    \"名前\":[\"A太\",\"B介\",\"C子\"],\n",
    "    \"国語\":[60,80,100],\n",
    "    \"数学\":[65,85,100],\n",
    "    \"英語\":[66,88,100]\n",
    "}\n",
    "\n",
    "df = pd.DataFrame(data)\n",
    "df"
   ]
  },
  {
   "cell_type": "code",
   "execution_count": null,
   "id": "3a59c9f4",
   "metadata": {},
   "outputs": [],
   "source": []
  }
 ],
 "metadata": {
  "kernelspec": {
   "display_name": "Python 3 (ipykernel)",
   "language": "python",
   "name": "python3"
  },
  "language_info": {
   "codemirror_mode": {
    "name": "ipython",
    "version": 3
   },
   "file_extension": ".py",
   "mimetype": "text/x-python",
   "name": "python",
   "nbconvert_exporter": "python",
   "pygments_lexer": "ipython3",
   "version": "3.9.12"
  }
 },
 "nbformat": 4,
 "nbformat_minor": 5
}
